{
 "cells": [
  {
   "cell_type": "code",
   "execution_count": 1,
   "metadata": {},
   "outputs": [
    {
     "name": "stdout",
     "output_type": "stream",
     "text": [
      "Best parameters: {'criterion': 'gini', 'max_depth': 10, 'min_samples_leaf': 1, 'min_samples_split': 2}\n",
      "Prediction: ['normal' 'normal' 'normal' ... 'normal' 'normal' 'normal']\n",
      "Accuracy: 1.0\n",
      "Percentage of malicious packets in 20 minutes: 4.29%\n"
     ]
    }
   ],
   "source": [
    "import pandas as pd\n",
    "from sklearn.tree import DecisionTreeClassifier\n",
    "from sklearn.preprocessing import StandardScaler, OneHotEncoder\n",
    "from sklearn.compose import ColumnTransformer\n",
    "from sklearn.model_selection import GridSearchCV\n",
    "from sklearn.metrics import accuracy_score\n",
    "\n",
    "# Load the data from the CSV file\n",
    "df = pd.read_csv('C:/Users/Admin/Desktop/Tema-Master/ddos_and_mitc_attack.csv')\n",
    "\n",
    "# Define the features and labels\n",
    "X = df[['timestamp', 'src_ip', 'dst_ip', 'src_port', 'dst_port', 'flags']]\n",
    "y = df['label']\n",
    "\n",
    "# One-hot encode the IP addresses\n",
    "ip_encoder = OneHotEncoder(categories='auto', sparse=False, handle_unknown='ignore')\n",
    "ip_transformer = ColumnTransformer([('one_hot', ip_encoder, ['src_ip', 'dst_ip', 'flags'])], remainder='passthrough')\n",
    "X = ip_transformer.fit_transform(X)\n",
    "\n",
    "# Scale the features\n",
    "scaler = StandardScaler()\n",
    "X = scaler.fit_transform(X)\n",
    "\n",
    "# Tune the hyperparameters of the decision tree model\n",
    "param_grid = {\n",
    "    'criterion': ['gini', 'entropy'],\n",
    "    'max_depth': [10, 20, 30, 40, 50],\n",
    "    'min_samples_split': [2, 5, 10, 15, 20],\n",
    "    'min_samples_leaf': [1, 2, 4, 8, 16]\n",
    "}\n",
    "model = DecisionTreeClassifier()\n",
    "grid_search = GridSearchCV(model, param_grid, cv=5, n_jobs=-1)\n",
    "grid_search.fit(X, y)\n",
    "print(\"Best parameters:\", grid_search.best_params_)\n",
    "model = grid_search.best_estimator_\n",
    "\n",
    "# Make a prediction\n",
    "prediction = model.predict(X)\n",
    "print(\"Prediction:\", prediction)\n",
    "accuracy = accuracy_score(y, prediction)\n",
    "print(\"Accuracy:\", accuracy)\n",
    "\n",
    "# Calculate the percentage of malicious packets\n",
    "total_packets = len(prediction)\n",
    "malicious_packets = sum(prediction == 'malicious')\n",
    "percentage = malicious_packets / total_packets * 100\n",
    "print(f\"Percentage of malicious packets in 20 minutes: {percentage:.2f}%\")"
   ]
  },
  {
   "cell_type": "code",
   "execution_count": 2,
   "metadata": {},
   "outputs": [
    {
     "data": {
      "image/png": "[encoded data removed]",
      "text/plain": [
       "<Figure size 432x288 with 2 Axes>"
      ]
     },
     "metadata": {
      "needs_background": "light"
     },
     "output_type": "display_data"
    },
    {
     "name": "stdout",
     "output_type": "stream",
     "text": [
      " Accuracy : 1.0 \n",
      " Precision : 1.0 \n",
      " Recall : 1.0\n"
     ]
    }
   ],
   "source": [
    "from sklearn.metrics import plot_confusion_matrix\n",
    "from sklearn.metrics import confusion_matrix\n",
    "import matplotlib.pyplot as plt\n",
    "from sklearn.metrics import accuracy_score\n",
    "from sklearn.metrics import precision_score\n",
    "from sklearn.metrics import recall_score\n",
    "\n",
    "confusion_matrix(y, prediction)\n",
    "plot_confusion_matrix(model, X, y)  \n",
    "plt.show()\n",
    "accuracy=accuracy_score(y, prediction)\n",
    "precision=precision_score(y, prediction, average=\"binary\", pos_label=\"malicious\")\n",
    "recall=recall_score(y, prediction, average=\"binary\", pos_label=\"malicious\")\n",
    "print(\" Accuracy : {0} \\n Precision : {1} \\n Recall : {2}\".format(accuracy, precision, recall))"
   ]
  },
  {
   "cell_type": "code",
   "execution_count": null,
   "metadata": {},
   "outputs": [],
   "source": []
  }
 ],
 "metadata": {
  "kernelspec": {
   "display_name": "Python 3",
   "language": "python",
   "name": "python3"
  },
  "language_info": {
   "codemirror_mode": {
    "name": "ipython",
    "version": 3
   },
   "file_extension": ".py",
   "mimetype": "text/x-python",
   "name": "python",
   "nbconvert_exporter": "python",
   "pygments_lexer": "ipython3",
   "version": "3.8.5"
  }
 },
 "nbformat": 4,
 "nbformat_minor": 4
}
