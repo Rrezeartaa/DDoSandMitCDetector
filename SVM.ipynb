{
 "cells": [
  {
   "cell_type": "code",
   "execution_count": 2,
   "metadata": {
    "scrolled": true
   },
   "outputs": [
    {
     "name": "stdout",
     "output_type": "stream",
     "text": [
      "Accuracy: 0.9967991464390504\n",
      "Percentage of malicious packets in 20 minutes: 3.97%\n"
     ]
    }
   ],
   "source": [
    "import pandas as pd\n",
    "from sklearn.svm import SVC\n",
    "from sklearn.preprocessing import StandardScaler, OneHotEncoder\n",
    "from sklearn.compose import ColumnTransformer\n",
    "from sklearn.metrics import accuracy_score\n",
    "\n",
    "# Load the data from the CSV file\n",
    "df = pd.read_csv('C:/Users/Admin/Desktop/Tema-Master/ddos_and_mitc_attack.csv')\n",
    "\n",
    "# Define the features and labels\n",
    "X = df[['timestamp', 'src_ip', 'dst_ip', 'src_port', 'dst_port', 'flags']]\n",
    "y = df['label']\n",
    "\n",
    "# One-hot encode the IP addresses\n",
    "ip_encoder = OneHotEncoder(categories='auto', sparse=False, handle_unknown='ignore')\n",
    "ip_transformer = ColumnTransformer([('one_hot', ip_encoder, ['src_ip', 'dst_ip', 'flags'])], remainder='passthrough')\n",
    "X = ip_transformer.fit_transform(X)\n",
    "\n",
    "# Scale the features\n",
    "scaler = StandardScaler()\n",
    "X = scaler.fit_transform(X)\n",
    "\n",
    "# Train the SVM model\n",
    "model = SVC()\n",
    "model.fit(X, y)\n",
    "\n",
    "# Make a prediction\n",
    "predictions = model.predict(X)\n",
    "accuracy = accuracy_score(y, predictions)\n",
    "print(\"Accuracy:\", accuracy)\n",
    "percent_malicious = sum(predictions == 'malicious') / len(predictions) * 100\n",
    "print(\"Percentage of malicious packets in 20 minutes: {:.2f}%\".format(percent_malicious))\n",
    "\n"
   ]
  },
  {
   "cell_type": "code",
   "execution_count": 4,
   "metadata": {},
   "outputs": [
    {
     "name": "stdout",
     "output_type": "stream",
     "text": [
      "Confusion matrix:\n",
      "[[ 149   12]\n",
      " [   0 3588]]\n"
     ]
    }
   ],
   "source": [
    "from sklearn.metrics import confusion_matrix\n",
    "\n",
    "cm = confusion_matrix(y, predictions)\n",
    "print(\"Confusion matrix:\")\n",
    "print(cm)"
   ]
  },
  {
   "cell_type": "code",
   "execution_count": 11,
   "metadata": {},
   "outputs": [
    {
     "data": {
      "image/png": "[encoded data removed]",
      "text/plain": [
       "<Figure size 432x288 with 2 Axes>"
      ]
     },
     "metadata": {
      "needs_background": "light"
     },
     "output_type": "display_data"
    },
    {
     "name": "stdout",
     "output_type": "stream",
     "text": [
      " Accuracy : 0.9967991464390504 \n",
      " Precision : 1.0 \n",
      " Recall : 0.9254658385093167\n"
     ]
    }
   ],
   "source": [
    "from sklearn.metrics import plot_confusion_matrix\n",
    "import matplotlib.pyplot as plt\n",
    "from sklearn.metrics import accuracy_score\n",
    "from sklearn.metrics import precision_score\n",
    "from sklearn.metrics import recall_score\n",
    "\n",
    "confusion_matrix(y, predictions)\n",
    "plot_confusion_matrix(model, X, y)  \n",
    "plt.show()\n",
    "accuracy=accuracy_score(y, predictions)\n",
    "precision=precision_score(y, predictions, average=\"binary\", pos_label=\"malicious\")\n",
    "recall=recall_score(y, predictions, average=\"binary\", pos_label=\"malicious\")\n",
    "print(\" Accuracy : {0} \\n Precision : {1} \\n Recall : {2}\".format(accuracy, precision, recall))"
   ]
  },
  {
   "cell_type": "code",
   "execution_count": null,
   "metadata": {},
   "outputs": [],
   "source": []
  }
 ],
 "metadata": {
  "kernelspec": {
   "display_name": "Python 3",
   "language": "python",
   "name": "python3"
  },
  "language_info": {
   "codemirror_mode": {
    "name": "ipython",
    "version": 3
   },
   "file_extension": ".py",
   "mimetype": "text/x-python",
   "name": "python",
   "nbconvert_exporter": "python",
   "pygments_lexer": "ipython3",
   "version": "3.8.5"
  }
 },
 "nbformat": 4,
 "nbformat_minor": 4
}
