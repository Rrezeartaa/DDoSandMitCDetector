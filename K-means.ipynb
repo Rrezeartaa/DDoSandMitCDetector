{
 "cells": [
  {
   "cell_type": "code",
   "execution_count": 2,
   "metadata": {
    "scrolled": true
   },
   "outputs": [
    {
     "data": {
      "image/png": "[encoded data removed]",
      "text/plain": [
       "<Figure size 432x288 with 1 Axes>"
      ]
     },
     "metadata": {
      "needs_background": "light"
     },
     "output_type": "display_data"
    }
   ],
   "source": [
    "import pandas as pd\n",
    "from sklearn.cluster import KMeans\n",
    "from sklearn.preprocessing import LabelEncoder, StandardScaler\n",
    "import matplotlib.pyplot as plt\n",
    "from sklearn.metrics import confusion_matrix\n",
    "\n",
    "# Load the data from the CSV file\n",
    "df = pd.read_csv('C:/Users/Admin/Desktop/Tema-Master/ddos_and_mitc_attack.csv')\n",
    "\n",
    "# Remove the label column\n",
    "X = df.drop('label', axis=1)\n",
    "\n",
    "# Convert categorical features to numeric using label encoding\n",
    "le = LabelEncoder()\n",
    "X['src_ip'] = le.fit_transform(X['src_ip'])\n",
    "X['dst_ip'] = le.fit_transform(X['dst_ip'])\n",
    "X['flags'] = le.fit_transform(X['flags'])\n",
    "\n",
    "# Scale the features\n",
    "scaler = StandardScaler()\n",
    "X = scaler.fit_transform(X)\n",
    "\n",
    "# Train the KMeans model\n",
    "model = KMeans(n_clusters=2, random_state=42)\n",
    "model.fit(X)\n",
    "\n",
    "# Make predictions and calculate percentage of malicious packets in each cluster\n",
    "y_pred = model.predict(X)\n",
    "df['cluster'] = y_pred\n",
    "cluster_counts = df['cluster'].value_counts()\n",
    "malignant_counts = df[df['label'] == 'malicious']['cluster'].value_counts()\n",
    "percent_malicious = (malignant_counts / cluster_counts) * 100\n",
    "\n",
    "# Plot the results\n",
    "plt.bar(percent_malicious.index, percent_malicious.values)\n",
    "plt.xticks([0, 1])\n",
    "plt.xlabel('Cluster')\n",
    "plt.ylabel('% of malicious packets')\n",
    "plt.show()\n",
    "\n",
    "# Calculate and display the confusion matrix\n",
    "# y_true = df['label']\n",
    "# cm = confusion_matrix(y_true, y_pred)\n",
    "# print(cm)"
   ]
  },
  {
   "cell_type": "code",
   "execution_count": null,
   "metadata": {},
   "outputs": [],
   "source": []
  }
 ],
 "metadata": {
  "kernelspec": {
   "display_name": "Python 3",
   "language": "python",
   "name": "python3"
  },
  "language_info": {
   "codemirror_mode": {
    "name": "ipython",
    "version": 3
   },
   "file_extension": ".py",
   "mimetype": "text/x-python",
   "name": "python",
   "nbconvert_exporter": "python",
   "pygments_lexer": "ipython3",
   "version": "3.8.5"
  }
 },
 "nbformat": 4,
 "nbformat_minor": 4
}
